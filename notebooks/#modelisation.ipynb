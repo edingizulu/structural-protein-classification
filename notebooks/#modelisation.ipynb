{
 "cells": [
  {
   "cell_type": "code",
   "execution_count": 1,
   "metadata": {},
   "outputs": [],
   "source": [
    "import numpy as np\n",
    "import pandas as pd\n",
    "import scipy as sc \n",
    "import matplotlib.pyplot as plt\n",
    "import seaborn as sns\n",
    "import pickle\n",
    "from sklearn.feature_selection import SelectFromModel, RFE, f_regression, SelectKBest\n",
    "\n",
    "#Tuning \n",
    "from sklearn.model_selection import GridSearchCV, learning_curve, KFold, ParameterGrid, train_test_split, StratifiedKFold, cross_val_score\n",
    "from sklearn.preprocessing import StandardScaler, MinMaxScaler, LabelBinarizer, OneHotEncoder\n",
    "\n",
    "#Metrics\n",
    "\n",
    "from sklearn.metrics import confusion_matrix, classification_report, f1_score, recall_score, roc_auc_score, precision_score,accuracy_score,roc_curve\n",
    "\n",
    "#Option d'affichage \n",
    "\n",
    "pd.set_option('display.max_rows', None)\n",
    "pd.set_option('display.max_columns', None)\n",
    "\n",
    "import warnings\n",
    "warnings.filterwarnings('ignore')"
   ]
  },
  {
   "cell_type": "code",
   "execution_count": 2,
   "metadata": {},
   "outputs": [],
   "source": [
    "with open('data/data_clean.pkl', 'rb') as f:\n",
    "    my_unpickle = pickle.Unpickler(f)\n",
    "    df_cleaned = my_unpickle.load()"
   ]
  },
  {
   "cell_type": "code",
   "execution_count": 3,
   "metadata": {},
   "outputs": [],
   "source": [
    "data =  df_cleaned.copy()"
   ]
  },
  {
   "cell_type": "code",
   "execution_count": 4,
   "metadata": {},
   "outputs": [
    {
     "data": {
      "text/html": [
       "<div>\n",
       "<style scoped>\n",
       "    .dataframe tbody tr th:only-of-type {\n",
       "        vertical-align: middle;\n",
       "    }\n",
       "\n",
       "    .dataframe tbody tr th {\n",
       "        vertical-align: top;\n",
       "    }\n",
       "\n",
       "    .dataframe thead th {\n",
       "        text-align: right;\n",
       "    }\n",
       "</style>\n",
       "<table border=\"1\" class=\"dataframe\">\n",
       "  <thead>\n",
       "    <tr style=\"text-align: right;\">\n",
       "      <th></th>\n",
       "      <th>structureId</th>\n",
       "      <th>classification</th>\n",
       "      <th>experimentalTechnique</th>\n",
       "      <th>macromoleculeType</th>\n",
       "      <th>residueCount</th>\n",
       "      <th>resolution</th>\n",
       "      <th>structureMolecularWeight</th>\n",
       "      <th>crystallizationMethod</th>\n",
       "      <th>crystallizationTempK</th>\n",
       "      <th>densityMatthews</th>\n",
       "      <th>densityPercentSol</th>\n",
       "      <th>pdbxDetails</th>\n",
       "      <th>phValue</th>\n",
       "      <th>publicationYear</th>\n",
       "      <th>chainId</th>\n",
       "      <th>sequence</th>\n",
       "    </tr>\n",
       "  </thead>\n",
       "  <tbody>\n",
       "    <tr>\n",
       "      <th>0</th>\n",
       "      <td>100D</td>\n",
       "      <td>dna-rna hybrid</td>\n",
       "      <td>X-RAY DIFFRACTION</td>\n",
       "      <td>DNA/RNA Hybrid</td>\n",
       "      <td>20</td>\n",
       "      <td>1.90</td>\n",
       "      <td>6360.30</td>\n",
       "      <td>vapor diffusion  hanging drop</td>\n",
       "      <td>NaN</td>\n",
       "      <td>1.78</td>\n",
       "      <td>30.89</td>\n",
       "      <td>pH 7.00, VAPOR DIFFUSION, HANGING DROP</td>\n",
       "      <td>neutre</td>\n",
       "      <td>1994.0</td>\n",
       "      <td>A</td>\n",
       "      <td>CCGGCGCCGG</td>\n",
       "    </tr>\n",
       "    <tr>\n",
       "      <th>1</th>\n",
       "      <td>100D</td>\n",
       "      <td>dna-rna hybrid</td>\n",
       "      <td>X-RAY DIFFRACTION</td>\n",
       "      <td>DNA/RNA Hybrid</td>\n",
       "      <td>20</td>\n",
       "      <td>1.90</td>\n",
       "      <td>6360.30</td>\n",
       "      <td>vapor diffusion  hanging drop</td>\n",
       "      <td>NaN</td>\n",
       "      <td>1.78</td>\n",
       "      <td>30.89</td>\n",
       "      <td>pH 7.00, VAPOR DIFFUSION, HANGING DROP</td>\n",
       "      <td>neutre</td>\n",
       "      <td>1994.0</td>\n",
       "      <td>B</td>\n",
       "      <td>CCGGCGCCGG</td>\n",
       "    </tr>\n",
       "    <tr>\n",
       "      <th>2</th>\n",
       "      <td>101D</td>\n",
       "      <td>dna</td>\n",
       "      <td>X-RAY DIFFRACTION</td>\n",
       "      <td>DNA</td>\n",
       "      <td>24</td>\n",
       "      <td>2.25</td>\n",
       "      <td>7939.35</td>\n",
       "      <td>NaN</td>\n",
       "      <td>NaN</td>\n",
       "      <td>2.00</td>\n",
       "      <td>38.45</td>\n",
       "      <td>NaN</td>\n",
       "      <td>neutre</td>\n",
       "      <td>1995.0</td>\n",
       "      <td>A</td>\n",
       "      <td>CGCGAATTCGCG</td>\n",
       "    </tr>\n",
       "    <tr>\n",
       "      <th>3</th>\n",
       "      <td>101D</td>\n",
       "      <td>dna</td>\n",
       "      <td>X-RAY DIFFRACTION</td>\n",
       "      <td>DNA</td>\n",
       "      <td>24</td>\n",
       "      <td>2.25</td>\n",
       "      <td>7939.35</td>\n",
       "      <td>NaN</td>\n",
       "      <td>NaN</td>\n",
       "      <td>2.00</td>\n",
       "      <td>38.45</td>\n",
       "      <td>NaN</td>\n",
       "      <td>neutre</td>\n",
       "      <td>1995.0</td>\n",
       "      <td>B</td>\n",
       "      <td>CGCGAATTCGCG</td>\n",
       "    </tr>\n",
       "    <tr>\n",
       "      <th>4</th>\n",
       "      <td>101M</td>\n",
       "      <td>oxygen transport</td>\n",
       "      <td>X-RAY DIFFRACTION</td>\n",
       "      <td>Protein</td>\n",
       "      <td>154</td>\n",
       "      <td>2.07</td>\n",
       "      <td>18112.80</td>\n",
       "      <td>NaN</td>\n",
       "      <td>NaN</td>\n",
       "      <td>3.09</td>\n",
       "      <td>60.20</td>\n",
       "      <td>3.0 M AMMONIUM SULFATE, 20 MM TRIS, 1MM EDTA, ...</td>\n",
       "      <td>basique</td>\n",
       "      <td>1999.0</td>\n",
       "      <td>A</td>\n",
       "      <td>MVLSEGEWQLVLHVWAKVEADVAGHGQDILIRLFKSHPETLEKFDR...</td>\n",
       "    </tr>\n",
       "  </tbody>\n",
       "</table>\n",
       "</div>"
      ],
      "text/plain": [
       "  structureId    classification experimentalTechnique macromoleculeType  \\\n",
       "0        100D    dna-rna hybrid     X-RAY DIFFRACTION    DNA/RNA Hybrid   \n",
       "1        100D    dna-rna hybrid     X-RAY DIFFRACTION    DNA/RNA Hybrid   \n",
       "2        101D               dna     X-RAY DIFFRACTION               DNA   \n",
       "3        101D               dna     X-RAY DIFFRACTION               DNA   \n",
       "4        101M  oxygen transport     X-RAY DIFFRACTION           Protein   \n",
       "\n",
       "   residueCount  resolution  structureMolecularWeight  \\\n",
       "0            20        1.90                   6360.30   \n",
       "1            20        1.90                   6360.30   \n",
       "2            24        2.25                   7939.35   \n",
       "3            24        2.25                   7939.35   \n",
       "4           154        2.07                  18112.80   \n",
       "\n",
       "           crystallizationMethod  crystallizationTempK  densityMatthews  \\\n",
       "0  vapor diffusion  hanging drop                   NaN             1.78   \n",
       "1  vapor diffusion  hanging drop                   NaN             1.78   \n",
       "2                            NaN                   NaN             2.00   \n",
       "3                            NaN                   NaN             2.00   \n",
       "4                            NaN                   NaN             3.09   \n",
       "\n",
       "   densityPercentSol                                        pdbxDetails  \\\n",
       "0              30.89             pH 7.00, VAPOR DIFFUSION, HANGING DROP   \n",
       "1              30.89             pH 7.00, VAPOR DIFFUSION, HANGING DROP   \n",
       "2              38.45                                                NaN   \n",
       "3              38.45                                                NaN   \n",
       "4              60.20  3.0 M AMMONIUM SULFATE, 20 MM TRIS, 1MM EDTA, ...   \n",
       "\n",
       "   phValue  publicationYear chainId  \\\n",
       "0   neutre           1994.0       A   \n",
       "1   neutre           1994.0       B   \n",
       "2   neutre           1995.0       A   \n",
       "3   neutre           1995.0       B   \n",
       "4  basique           1999.0       A   \n",
       "\n",
       "                                            sequence  \n",
       "0                                         CCGGCGCCGG  \n",
       "1                                         CCGGCGCCGG  \n",
       "2                                       CGCGAATTCGCG  \n",
       "3                                       CGCGAATTCGCG  \n",
       "4  MVLSEGEWQLVLHVWAKVEADVAGHGQDILIRLFKSHPETLEKFDR...  "
      ]
     },
     "execution_count": 4,
     "metadata": {},
     "output_type": "execute_result"
    }
   ],
   "source": [
    "data.head()"
   ]
  },
  {
   "cell_type": "markdown",
   "metadata": {},
   "source": [
    "####  Features Engineering"
   ]
  },
  {
   "cell_type": "code",
   "execution_count": 5,
   "metadata": {
    "scrolled": false
   },
   "outputs": [],
   "source": [
    "# Target feature\n",
    "counts = data.classification.value_counts()\n",
    "types = np.asarray(counts[counts>5000].index)\n",
    "df = data[data.classification.isin(types)].copy()\n",
    "\n",
    "#class_dict = dict()\n",
    "#count = 0\n",
    "\n",
    "#classes = df['classification'].value_counts().items()\n",
    "\n",
    "#for cat, num in classes:\n",
    "#   class_dict[cat] = count\n",
    " #   count +=1"
   ]
  },
  {
   "cell_type": "code",
   "execution_count": 6,
   "metadata": {},
   "outputs": [],
   "source": [
    "#class_dict"
   ]
  },
  {
   "cell_type": "code",
   "execution_count": 8,
   "metadata": {},
   "outputs": [],
   "source": [
    "df['target'] = df.classification"
   ]
  },
  {
   "cell_type": "code",
   "execution_count": 9,
   "metadata": {
    "scrolled": true
   },
   "outputs": [],
   "source": [
    "# crystallizationMethod\n",
    "cr_df = (df.crystallizationMethod.value_counts(ascending = False, normalize=True) *100)\n",
    "\n",
    "methods={}\n",
    "for method, value in zip(cr_df.index, cr_df.values):\n",
    "    if value < 1.90 :\n",
    "        methods[method] = 'others_cryst_method'\n",
    "    else :\n",
    "        methods[method] = method\n",
    "\n",
    "df['crystallizationMethod'] = df.crystallizationMethod.map(methods)"
   ]
  },
  {
   "cell_type": "code",
   "execution_count": 10,
   "metadata": {},
   "outputs": [],
   "source": [
    "# experimentalTechnique \n",
    "percent_exp_tech = (df.experimentalTechnique.value_counts(normalize = True)*100)\n",
    "tech_mode = ['X-RAY DIFFRACTION', 'ELECTRON MICROSCOPY', 'SOLUTION NMR']\n",
    "\n",
    "techniques = {}\n",
    "for tech in percent_exp_tech.index:\n",
    "    if tech not in tech_mode:\n",
    "        techniques[tech] = \"others_tech_exp\"\n",
    "    else:\n",
    "        techniques[tech] = tech\n",
    "        \n",
    "df[\"experimentalTechnique\"]=df.experimentalTechnique.map(techniques)"
   ]
  },
  {
   "cell_type": "code",
   "execution_count": 11,
   "metadata": {},
   "outputs": [],
   "source": [
    "# macromoleculeType\n",
    "macro_molec = ['Protein', 'Protein#RNA', 'Protein#DNA']\n",
    "\n",
    "types_macro = {}\n",
    "macro_percent = (df.macromoleculeType.value_counts(normalize=True)*100).index.tolist()\n",
    "\n",
    "for macro in macro_percent:\n",
    "    if macro not in macro_molec:\n",
    "        types_macro[macro] = \"others_macro_mol\"\n",
    "    else:\n",
    "        types_macro[macro] = macro\n",
    "        \n",
    "df.macromoleculeType = df.macromoleculeType.map(types_macro)"
   ]
  },
  {
   "cell_type": "markdown",
   "metadata": {},
   "source": [
    "####  Correction assymétrique des features num"
   ]
  },
  {
   "cell_type": "code",
   "execution_count": 12,
   "metadata": {},
   "outputs": [],
   "source": [
    "feats = ['residueCount', 'structureMolecularWeight','densityMatthews', 'resolution']\n",
    "for i in feats:\n",
    "    df[i]=df[i].map(lambda i: np.log(i) if i > 0 else 0)"
   ]
  },
  {
   "cell_type": "code",
   "execution_count": 13,
   "metadata": {
    "scrolled": true
   },
   "outputs": [
    {
     "data": {
      "image/png": "[encoded data removed]",
      "text/plain": [
       "<Figure size 576x576 with 1 Axes>"
      ]
     },
     "metadata": {
      "needs_background": "light"
     },
     "output_type": "display_data"
    },
    {
     "data": {
      "image/png": "[encoded data removed]",
      "text/plain": [
       "<Figure size 576x576 with 1 Axes>"
      ]
     },
     "metadata": {
      "needs_background": "light"
     },
     "output_type": "display_data"
    },
    {
     "data": {
      "image/png": "[encoded data removed]",
      "text/plain": [
       "<Figure size 576x576 with 1 Axes>"
      ]
     },
     "metadata": {
      "needs_background": "light"
     },
     "output_type": "display_data"
    },
    {
     "data": {
      "image/png": "[encoded data removed]",
      "text/plain": [
       "<Figure size 576x576 with 1 Axes>"
      ]
     },
     "metadata": {
      "needs_background": "light"
     },
     "output_type": "display_data"
    }
   ],
   "source": [
    "for i in feats:\n",
    "    plt.figure(figsize = (8,8))\n",
    "    sns.histplot(x = df[i], kde = True)"
   ]
  },
  {
   "cell_type": "markdown",
   "metadata": {},
   "source": [
    "#### Missing values handling"
   ]
  },
  {
   "cell_type": "code",
   "execution_count": 14,
   "metadata": {},
   "outputs": [],
   "source": [
    "\n",
    "# for numerical values replace nan by median \n",
    "\n",
    "df = df.fillna(df.select_dtypes(include = np.number).median())\n",
    "\n",
    "# replace by mode\n",
    "df['macromoleculeType'].fillna(df['macromoleculeType'].mode()[0], inplace = True)\n",
    "df['crystallizationMethod'].fillna(df['crystallizationMethod'].mode()[0], inplace = True)\n",
    "\n",
    "# drop other \n",
    "df = df.dropna()"
   ]
  },
  {
   "cell_type": "code",
   "execution_count": 15,
   "metadata": {},
   "outputs": [
    {
     "data": {
      "text/plain": [
       "(250052, 17)"
      ]
     },
     "execution_count": 15,
     "metadata": {},
     "output_type": "execute_result"
    }
   ],
   "source": [
    "df.shape"
   ]
  },
  {
   "cell_type": "code",
   "execution_count": 16,
   "metadata": {},
   "outputs": [
    {
     "data": {
      "text/html": [
       "<div>\n",
       "<style scoped>\n",
       "    .dataframe tbody tr th:only-of-type {\n",
       "        vertical-align: middle;\n",
       "    }\n",
       "\n",
       "    .dataframe tbody tr th {\n",
       "        vertical-align: top;\n",
       "    }\n",
       "\n",
       "    .dataframe thead th {\n",
       "        text-align: right;\n",
       "    }\n",
       "</style>\n",
       "<table border=\"1\" class=\"dataframe\">\n",
       "  <thead>\n",
       "    <tr style=\"text-align: right;\">\n",
       "      <th></th>\n",
       "      <th>Total</th>\n",
       "      <th>Percent</th>\n",
       "      <th>Types</th>\n",
       "    </tr>\n",
       "  </thead>\n",
       "  <tbody>\n",
       "    <tr>\n",
       "      <th>structureId</th>\n",
       "      <td>0</td>\n",
       "      <td>0.0</td>\n",
       "      <td>object</td>\n",
       "    </tr>\n",
       "    <tr>\n",
       "      <th>classification</th>\n",
       "      <td>0</td>\n",
       "      <td>0.0</td>\n",
       "      <td>object</td>\n",
       "    </tr>\n",
       "    <tr>\n",
       "      <th>experimentalTechnique</th>\n",
       "      <td>0</td>\n",
       "      <td>0.0</td>\n",
       "      <td>object</td>\n",
       "    </tr>\n",
       "    <tr>\n",
       "      <th>macromoleculeType</th>\n",
       "      <td>0</td>\n",
       "      <td>0.0</td>\n",
       "      <td>object</td>\n",
       "    </tr>\n",
       "    <tr>\n",
       "      <th>residueCount</th>\n",
       "      <td>0</td>\n",
       "      <td>0.0</td>\n",
       "      <td>float64</td>\n",
       "    </tr>\n",
       "    <tr>\n",
       "      <th>resolution</th>\n",
       "      <td>0</td>\n",
       "      <td>0.0</td>\n",
       "      <td>float64</td>\n",
       "    </tr>\n",
       "    <tr>\n",
       "      <th>structureMolecularWeight</th>\n",
       "      <td>0</td>\n",
       "      <td>0.0</td>\n",
       "      <td>float64</td>\n",
       "    </tr>\n",
       "    <tr>\n",
       "      <th>crystallizationMethod</th>\n",
       "      <td>0</td>\n",
       "      <td>0.0</td>\n",
       "      <td>object</td>\n",
       "    </tr>\n",
       "    <tr>\n",
       "      <th>crystallizationTempK</th>\n",
       "      <td>0</td>\n",
       "      <td>0.0</td>\n",
       "      <td>float64</td>\n",
       "    </tr>\n",
       "    <tr>\n",
       "      <th>densityMatthews</th>\n",
       "      <td>0</td>\n",
       "      <td>0.0</td>\n",
       "      <td>float64</td>\n",
       "    </tr>\n",
       "    <tr>\n",
       "      <th>densityPercentSol</th>\n",
       "      <td>0</td>\n",
       "      <td>0.0</td>\n",
       "      <td>float64</td>\n",
       "    </tr>\n",
       "    <tr>\n",
       "      <th>pdbxDetails</th>\n",
       "      <td>0</td>\n",
       "      <td>0.0</td>\n",
       "      <td>object</td>\n",
       "    </tr>\n",
       "    <tr>\n",
       "      <th>phValue</th>\n",
       "      <td>0</td>\n",
       "      <td>0.0</td>\n",
       "      <td>object</td>\n",
       "    </tr>\n",
       "    <tr>\n",
       "      <th>publicationYear</th>\n",
       "      <td>0</td>\n",
       "      <td>0.0</td>\n",
       "      <td>float64</td>\n",
       "    </tr>\n",
       "    <tr>\n",
       "      <th>chainId</th>\n",
       "      <td>0</td>\n",
       "      <td>0.0</td>\n",
       "      <td>object</td>\n",
       "    </tr>\n",
       "    <tr>\n",
       "      <th>sequence</th>\n",
       "      <td>0</td>\n",
       "      <td>0.0</td>\n",
       "      <td>object</td>\n",
       "    </tr>\n",
       "    <tr>\n",
       "      <th>target</th>\n",
       "      <td>0</td>\n",
       "      <td>0.0</td>\n",
       "      <td>object</td>\n",
       "    </tr>\n",
       "  </tbody>\n",
       "</table>\n",
       "</div>"
      ],
      "text/plain": [
       "                          Total  Percent    Types\n",
       "structureId                   0      0.0   object\n",
       "classification                0      0.0   object\n",
       "experimentalTechnique         0      0.0   object\n",
       "macromoleculeType             0      0.0   object\n",
       "residueCount                  0      0.0  float64\n",
       "resolution                    0      0.0  float64\n",
       "structureMolecularWeight      0      0.0  float64\n",
       "crystallizationMethod         0      0.0   object\n",
       "crystallizationTempK          0      0.0  float64\n",
       "densityMatthews               0      0.0  float64\n",
       "densityPercentSol             0      0.0  float64\n",
       "pdbxDetails                   0      0.0   object\n",
       "phValue                       0      0.0   object\n",
       "publicationYear               0      0.0  float64\n",
       "chainId                       0      0.0   object\n",
       "sequence                      0      0.0   object\n",
       "target                        0      0.0   object"
      ]
     },
     "execution_count": 16,
     "metadata": {},
     "output_type": "execute_result"
    }
   ],
   "source": [
    "# check missing values \n",
    "\n",
    "pd.DataFrame({'Total': df.isna().sum(),\n",
    "             'Percent': df.isna().sum()/df.shape[0],\n",
    "             'Types': df.dtypes})"
   ]
  },
  {
   "cell_type": "code",
   "execution_count": 17,
   "metadata": {},
   "outputs": [],
   "source": [
    "# Droping features uninterest\n",
    "columns_drop = ['structureId', 'chainId', 'sequence', 'pdbxDetails', 'classification']\n",
    "\n",
    "df = df.drop(columns=columns_drop, axis = 1)"
   ]
  },
  {
   "cell_type": "markdown",
   "metadata": {},
   "source": [
    "#### Encoding categorical features "
   ]
  },
  {
   "cell_type": "code",
   "execution_count": 18,
   "metadata": {},
   "outputs": [],
   "source": [
    "data = df.drop('target', 1)"
   ]
  },
  {
   "cell_type": "code",
   "execution_count": 19,
   "metadata": {},
   "outputs": [],
   "source": [
    "# Discretisation des variables catégorielles par la méthode get_dummies, option drop_first = éviter les variables colineaires\n",
    "data = pd.get_dummies(data, prefix_sep= '_',columns=['experimentalTechnique', 'macromoleculeType', 'crystallizationMethod', 'phValue'],\n",
    "                      drop_first=False)"
   ]
  },
  {
   "cell_type": "markdown",
   "metadata": {},
   "source": [
    "#### Dimensional reduction "
   ]
  },
  {
   "cell_type": "code",
   "execution_count": 20,
   "metadata": {},
   "outputs": [
    {
     "data": {
      "text/html": [
       "<div>\n",
       "<style scoped>\n",
       "    .dataframe tbody tr th:only-of-type {\n",
       "        vertical-align: middle;\n",
       "    }\n",
       "\n",
       "    .dataframe tbody tr th {\n",
       "        vertical-align: top;\n",
       "    }\n",
       "\n",
       "    .dataframe thead th {\n",
       "        text-align: right;\n",
       "    }\n",
       "</style>\n",
       "<table border=\"1\" class=\"dataframe\">\n",
       "  <thead>\n",
       "    <tr style=\"text-align: right;\">\n",
       "      <th></th>\n",
       "      <th>residueCount</th>\n",
       "      <th>resolution</th>\n",
       "      <th>structureMolecularWeight</th>\n",
       "      <th>crystallizationTempK</th>\n",
       "      <th>densityMatthews</th>\n",
       "      <th>densityPercentSol</th>\n",
       "      <th>publicationYear</th>\n",
       "      <th>experimentalTechnique_ELECTRON MICROSCOPY</th>\n",
       "      <th>experimentalTechnique_X-RAY DIFFRACTION</th>\n",
       "      <th>experimentalTechnique_others_tech_exp</th>\n",
       "      <th>macromoleculeType_Protein</th>\n",
       "      <th>macromoleculeType_Protein#DNA</th>\n",
       "      <th>macromoleculeType_Protein#RNA</th>\n",
       "      <th>macromoleculeType_others_macro_mol</th>\n",
       "      <th>crystallizationMethod_microbatch</th>\n",
       "      <th>crystallizationMethod_others_cryst_method</th>\n",
       "      <th>crystallizationMethod_vapor diffusion</th>\n",
       "      <th>crystallizationMethod_vapor diffusion  hanging drop</th>\n",
       "      <th>crystallizationMethod_vapor diffusion  sitting drop</th>\n",
       "      <th>phValue_acide</th>\n",
       "      <th>phValue_basique</th>\n",
       "      <th>phValue_neutre</th>\n",
       "    </tr>\n",
       "  </thead>\n",
       "  <tbody>\n",
       "    <tr>\n",
       "      <th>0</th>\n",
       "      <td>-0.74034</td>\n",
       "      <td>-0.3756</td>\n",
       "      <td>-0.730081</td>\n",
       "      <td>0.2343</td>\n",
       "      <td>0.075998</td>\n",
       "      <td>0.017117</td>\n",
       "      <td>-2.89747</td>\n",
       "      <td>-0.005999</td>\n",
       "      <td>0.026388</td>\n",
       "      <td>-0.025696</td>\n",
       "      <td>0.399173</td>\n",
       "      <td>-0.068446</td>\n",
       "      <td>-0.387295</td>\n",
       "      <td>-0.048467</td>\n",
       "      <td>-0.195784</td>\n",
       "      <td>-0.218961</td>\n",
       "      <td>-0.289757</td>\n",
       "      <td>0.808548</td>\n",
       "      <td>-0.554541</td>\n",
       "      <td>1.22356</td>\n",
       "      <td>-0.76977</td>\n",
       "      <td>-0.542616</td>\n",
       "    </tr>\n",
       "    <tr>\n",
       "      <th>1</th>\n",
       "      <td>-0.74034</td>\n",
       "      <td>-0.3756</td>\n",
       "      <td>-0.730081</td>\n",
       "      <td>0.2343</td>\n",
       "      <td>0.075998</td>\n",
       "      <td>0.017117</td>\n",
       "      <td>-2.89747</td>\n",
       "      <td>-0.005999</td>\n",
       "      <td>0.026388</td>\n",
       "      <td>-0.025696</td>\n",
       "      <td>0.399173</td>\n",
       "      <td>-0.068446</td>\n",
       "      <td>-0.387295</td>\n",
       "      <td>-0.048467</td>\n",
       "      <td>-0.195784</td>\n",
       "      <td>-0.218961</td>\n",
       "      <td>-0.289757</td>\n",
       "      <td>0.808548</td>\n",
       "      <td>-0.554541</td>\n",
       "      <td>1.22356</td>\n",
       "      <td>-0.76977</td>\n",
       "      <td>-0.542616</td>\n",
       "    </tr>\n",
       "  </tbody>\n",
       "</table>\n",
       "</div>"
      ],
      "text/plain": [
       "   residueCount  resolution  structureMolecularWeight  crystallizationTempK  \\\n",
       "0      -0.74034     -0.3756                 -0.730081                0.2343   \n",
       "1      -0.74034     -0.3756                 -0.730081                0.2343   \n",
       "\n",
       "   densityMatthews  densityPercentSol  publicationYear  \\\n",
       "0         0.075998           0.017117         -2.89747   \n",
       "1         0.075998           0.017117         -2.89747   \n",
       "\n",
       "   experimentalTechnique_ELECTRON MICROSCOPY  \\\n",
       "0                                  -0.005999   \n",
       "1                                  -0.005999   \n",
       "\n",
       "   experimentalTechnique_X-RAY DIFFRACTION  \\\n",
       "0                                 0.026388   \n",
       "1                                 0.026388   \n",
       "\n",
       "   experimentalTechnique_others_tech_exp  macromoleculeType_Protein  \\\n",
       "0                              -0.025696                   0.399173   \n",
       "1                              -0.025696                   0.399173   \n",
       "\n",
       "   macromoleculeType_Protein#DNA  macromoleculeType_Protein#RNA  \\\n",
       "0                      -0.068446                      -0.387295   \n",
       "1                      -0.068446                      -0.387295   \n",
       "\n",
       "   macromoleculeType_others_macro_mol  crystallizationMethod_microbatch  \\\n",
       "0                           -0.048467                         -0.195784   \n",
       "1                           -0.048467                         -0.195784   \n",
       "\n",
       "   crystallizationMethod_others_cryst_method  \\\n",
       "0                                  -0.218961   \n",
       "1                                  -0.218961   \n",
       "\n",
       "   crystallizationMethod_vapor diffusion  \\\n",
       "0                              -0.289757   \n",
       "1                              -0.289757   \n",
       "\n",
       "   crystallizationMethod_vapor diffusion  hanging drop  \\\n",
       "0                                           0.808548     \n",
       "1                                           0.808548     \n",
       "\n",
       "   crystallizationMethod_vapor diffusion  sitting drop  phValue_acide  \\\n",
       "0                                          -0.554541          1.22356   \n",
       "1                                          -0.554541          1.22356   \n",
       "\n",
       "   phValue_basique  phValue_neutre  \n",
       "0         -0.76977       -0.542616  \n",
       "1         -0.76977       -0.542616  "
      ]
     },
     "execution_count": 20,
     "metadata": {},
     "output_type": "execute_result"
    }
   ],
   "source": [
    "# Scaling data \n",
    "scaler = StandardScaler()\n",
    "data_scaled = pd.DataFrame(scaler.fit_transform(data), columns = data.columns)\n",
    "data_scaled.head(2)"
   ]
  },
  {
   "cell_type": "markdown",
   "metadata": {},
   "source": [
    "#### RFE (Recurent Feature Elimination Method) "
   ]
  },
  {
   "cell_type": "code",
   "execution_count": null,
   "metadata": {},
   "outputs": [],
   "source": [
    "# Logistic Regression Model "
   ]
  },
  {
   "cell_type": "code",
   "execution_count": 21,
   "metadata": {},
   "outputs": [
    {
     "data": {
      "text/plain": [
       "LogisticRegression()"
      ]
     },
     "execution_count": 21,
     "metadata": {},
     "output_type": "execute_result"
    }
   ],
   "source": [
    "\n",
    "from sklearn.linear_model import LogisticRegression\n",
    "#Fiting \n",
    "model_1 = LogisticRegression()\n",
    "model_1.fit(data_scaled, df['target'])"
   ]
  },
  {
   "cell_type": "code",
   "execution_count": 22,
   "metadata": {},
   "outputs": [
    {
     "data": {
      "image/png": "[encoded data removed]",
      "text/plain": [
       "<Figure size 1152x144 with 1 Axes>"
      ]
     },
     "metadata": {
      "needs_background": "light"
     },
     "output_type": "display_data"
    }
   ],
   "source": [
    "selector = RFE(estimator=model_1, n_features_to_select=8) \n",
    "\n",
    "selector.fit(data_scaled, df['target'])\n",
    "mask = selector.get_support()\n",
    "\n",
    "plt.matshow(mask.reshape(1,-1), cmap = 'gray_r')\n",
    "plt.xlabel('Axe des features');"
   ]
  },
  {
   "cell_type": "code",
   "execution_count": 23,
   "metadata": {},
   "outputs": [
    {
     "data": {
      "text/plain": [
       "array(['residueCount', 'resolution', 'structureMolecularWeight',\n",
       "       'densityPercentSol', 'macromoleculeType_Protein',\n",
       "       'macromoleculeType_Protein#DNA', 'macromoleculeType_Protein#RNA',\n",
       "       'crystallizationMethod_microbatch'], dtype=object)"
      ]
     },
     "execution_count": 23,
     "metadata": {},
     "output_type": "execute_result"
    }
   ],
   "source": [
    "# Features names \n",
    "\n",
    "np.array(data.columns)[mask]"
   ]
  },
  {
   "cell_type": "markdown",
   "metadata": {},
   "source": [
    "####  RandomForest Method "
   ]
  },
  {
   "cell_type": "code",
   "execution_count": 24,
   "metadata": {},
   "outputs": [],
   "source": [
    "from sklearn.ensemble import RandomForestClassifier\n",
    "model_2 = RandomForestClassifier(random_state=1, max_depth=10)"
   ]
  },
  {
   "cell_type": "code",
   "execution_count": 25,
   "metadata": {},
   "outputs": [
    {
     "data": {
      "text/plain": [
       "RandomForestClassifier(max_depth=10, random_state=1)"
      ]
     },
     "execution_count": 25,
     "metadata": {},
     "output_type": "execute_result"
    }
   ],
   "source": [
    "model_2.fit(data_scaled, df['target'])"
   ]
  },
  {
   "cell_type": "code",
   "execution_count": 26,
   "metadata": {},
   "outputs": [
    {
     "data": {
      "image/png": "[encoded data removed]",
      "text/plain": [
       "<Figure size 720x576 with 1 Axes>"
      ]
     },
     "metadata": {
      "needs_background": "light"
     },
     "output_type": "display_data"
    }
   ],
   "source": [
    "features = data.columns\n",
    "importances = model_2.feature_importances_\n",
    "indices = np.argsort(importances) #[-10:] # top 6 features\n",
    "plt.figure(figsize = (10,8))\n",
    "plt.title('Feature Importances')\n",
    "plt.barh(range(len(indices)), importances[indices], color='b', align='center')\n",
    "plt.yticks(range(len(indices)), [features[i] for i in indices])\n",
    "plt.xlabel('Relative Importance')\n",
    "plt.show()"
   ]
  },
  {
   "cell_type": "code",
   "execution_count": 27,
   "metadata": {},
   "outputs": [
    {
     "data": {
      "text/plain": [
       "Index(['residueCount', 'resolution', 'structureMolecularWeight',\n",
       "       'crystallizationTempK', 'densityMatthews', 'densityPercentSol',\n",
       "       'publicationYear', 'experimentalTechnique_ELECTRON MICROSCOPY',\n",
       "       'experimentalTechnique_X-RAY DIFFRACTION',\n",
       "       'experimentalTechnique_others_tech_exp', 'macromoleculeType_Protein',\n",
       "       'macromoleculeType_Protein#DNA', 'macromoleculeType_Protein#RNA',\n",
       "       'macromoleculeType_others_macro_mol',\n",
       "       'crystallizationMethod_microbatch',\n",
       "       'crystallizationMethod_others_cryst_method',\n",
       "       'crystallizationMethod_vapor diffusion',\n",
       "       'crystallizationMethod_vapor diffusion  hanging drop',\n",
       "       'crystallizationMethod_vapor diffusion  sitting drop', 'phValue_acide',\n",
       "       'phValue_basique', 'phValue_neutre'],\n",
       "      dtype='object')"
      ]
     },
     "execution_count": 27,
     "metadata": {},
     "output_type": "execute_result"
    }
   ],
   "source": [
    "data.columns"
   ]
  },
  {
   "cell_type": "markdown",
   "metadata": {},
   "source": [
    "#### Choice Features "
   ]
  },
  {
   "cell_type": "code",
   "execution_count": 28,
   "metadata": {},
   "outputs": [
    {
     "data": {
      "text/plain": [
       "(250052, 9)"
      ]
     },
     "execution_count": 28,
     "metadata": {},
     "output_type": "execute_result"
    }
   ],
   "source": [
    "column = ['residueCount', 'structureMolecularWeight', 'densityMatthews',\n",
    "       'densityPercentSol', 'macromoleculeType_Protein',\n",
    "       'macromoleculeType_Protein#DNA', 'macromoleculeType_Protein#RNA',\n",
    "       'macromoleculeType_others_macro_mol']\n",
    "\n",
    "\n",
    "data = data[column]\n",
    "\n",
    "data = data.join(df['target'])\n",
    "\n",
    "data.shape"
   ]
  },
  {
   "cell_type": "markdown",
   "metadata": {},
   "source": [
    "#### Saving data"
   ]
  },
  {
   "cell_type": "code",
   "execution_count": 29,
   "metadata": {},
   "outputs": [],
   "source": [
    "with open ('data/data.pkl', 'wb') as f:\n",
    "    my_pickle = pickle.Pickler(f)\n",
    "    my_pickle.dump(data)"
   ]
  },
  {
   "cell_type": "code",
   "execution_count": null,
   "metadata": {},
   "outputs": [],
   "source": []
  }
 ],
 "metadata": {
  "kernelspec": {
   "display_name": "Python 3",
   "language": "python",
   "name": "python3"
  },
  "language_info": {
   "codemirror_mode": {
    "name": "ipython",
    "version": 3
   },
   "file_extension": ".py",
   "mimetype": "text/x-python",
   "name": "python",
   "nbconvert_exporter": "python",
   "pygments_lexer": "ipython3",
   "version": "3.8.3"
  }
 },
 "nbformat": 4,
 "nbformat_minor": 4
}
