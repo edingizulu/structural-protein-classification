{
 "cells": [
  {
   "cell_type": "code",
   "execution_count": 63,
   "metadata": {
    "pycharm": {
     "name": "#%%\n"
    }
   },
   "outputs": [],
   "source": [
    "import pandas as pd\n",
    "import numpy as np\n",
    "from sklearn.preprocessing import StandardScaler\n",
    "from sklearn.feature_selection import SelectKBest, f_classif\n",
    "from sklearn.ensemble import RandomForestClassifier\n",
    "import matplotlib.pyplot as plt\n",
    "import seaborn as sns\n",
    "import data_cleaning as dc\n",
    "import models as md\n",
    "\n",
    "\n",
    "from sklearn.ensemble import RandomForestClassifier\n",
    "from sklearn.linear_model import LogisticRegression\n",
    "from sklearn import preprocessing\n",
    "from sklearn.neighbors import KNeighborsClassifier\n",
    "from sklearn.svm import SVC\n",
    "from sklearn.tree import DecisionTreeClassifier\n",
    "from sklearn.ensemble import AdaBoostClassifier,BaggingClassifier, ExtraTreesClassifier, GradientBoostingClassifier\n",
    "from sklearn.discriminant_analysis import LinearDiscriminantAnalysis as LDA\n",
    "from sklearn.neural_network import MLPClassifier\n",
    "from sklearn.naive_bayes import GaussianNB\n",
    "from sklearn.discriminant_analysis import LinearDiscriminantAnalysis\n",
    "\n",
    "from sklearn.ensemble import RandomForestClassifier\n",
    "from sklearn.linear_model import LogisticRegression\n",
    "from sklearn import preprocessing\n",
    "from sklearn.neighbors import KNeighborsClassifier\n",
    "from sklearn.svm import SVC\n",
    "from sklearn.tree import DecisionTreeClassifier\n",
    "from sklearn.ensemble import AdaBoostClassifier,BaggingClassifier, ExtraTreesClassifier, GradientBoostingClassifier\n",
    "from sklearn.discriminant_analysis import LinearDiscriminantAnalysis as LDA\n",
    "from sklearn.neural_network import MLPClassifier\n",
    "from sklearn.naive_bayes import GaussianNB\n",
    "from sklearn.discriminant_analysis import LinearDiscriminantAnalysis\n",
    "from xgboost import  XGBClassifier\n",
    "\n",
    "\n",
    "from tqdm.notebook import tqdm, tqdm_notebook\n",
    "from time import sleep\n",
    "import time\n",
    "\n",
    "#Tuning\n",
    "from sklearn.model_selection import GridSearchCV, learning_curve, KFold, ParameterGrid, train_test_split, StratifiedKFold, cross_val_score\n",
    "from sklearn.preprocessing import StandardScaler, MinMaxScaler, LabelBinarizer, OneHotEncoder\n",
    "\n",
    "#Metrics\n",
    "\n",
    "from sklearn.metrics import confusion_matrix, classification_report, f1_score, recall_score, roc_auc_score, precision_score,accuracy_score,roc_curve\n",
    "\n",
    "from importlib import reload\n",
    "pd.options.mode.chained_assignment = None"
   ]
  },
  {
   "cell_type": "code",
   "execution_count": 123,
   "metadata": {},
   "outputs": [],
   "source": [
    "reload(dc);\n",
    "reload(md);"
   ]
  },
  {
   "cell_type": "markdown",
   "metadata": {
    "collapsed": true,
    "pycharm": {
     "name": "#%% md\n"
    }
   },
   "source": [
    "### Modélisation"
   ]
  },
  {
   "cell_type": "code",
   "execution_count": 47,
   "metadata": {
    "pycharm": {
     "name": "#%%\n"
    }
   },
   "outputs": [
    {
     "name": "stdout",
     "output_type": "stream",
     "text": [
      "Le dataset contient 471149 lignes et 11 colonnes\n"
     ]
    },
    {
     "data": {
      "text/html": [
       "<div>\n",
       "<style scoped>\n",
       "    .dataframe tbody tr th:only-of-type {\n",
       "        vertical-align: middle;\n",
       "    }\n",
       "\n",
       "    .dataframe tbody tr th {\n",
       "        vertical-align: top;\n",
       "    }\n",
       "\n",
       "    .dataframe thead th {\n",
       "        text-align: right;\n",
       "    }\n",
       "</style>\n",
       "<table border=\"1\" class=\"dataframe\">\n",
       "  <thead>\n",
       "    <tr style=\"text-align: right;\">\n",
       "      <th></th>\n",
       "      <th>classification</th>\n",
       "      <th>experimentalTechnique</th>\n",
       "      <th>macromoleculeType</th>\n",
       "      <th>residueCount</th>\n",
       "      <th>resolution</th>\n",
       "      <th>structureMolecularWeight</th>\n",
       "      <th>crystallizationMethod</th>\n",
       "      <th>crystallizationTempK</th>\n",
       "      <th>densityMatthews</th>\n",
       "      <th>densityPercentSol</th>\n",
       "      <th>phValue</th>\n",
       "    </tr>\n",
       "  </thead>\n",
       "  <tbody>\n",
       "    <tr>\n",
       "      <th>0</th>\n",
       "      <td>other_classes</td>\n",
       "      <td>X-RAY DIFFRACTION</td>\n",
       "      <td>others_macro_mol</td>\n",
       "      <td>20</td>\n",
       "      <td>1.90</td>\n",
       "      <td>6360.30</td>\n",
       "      <td>vapor diffusion  hanging drop</td>\n",
       "      <td>293.0</td>\n",
       "      <td>1.78</td>\n",
       "      <td>30.89</td>\n",
       "      <td>neutre</td>\n",
       "    </tr>\n",
       "    <tr>\n",
       "      <th>1</th>\n",
       "      <td>other_classes</td>\n",
       "      <td>X-RAY DIFFRACTION</td>\n",
       "      <td>others_macro_mol</td>\n",
       "      <td>20</td>\n",
       "      <td>1.90</td>\n",
       "      <td>6360.30</td>\n",
       "      <td>vapor diffusion  hanging drop</td>\n",
       "      <td>293.0</td>\n",
       "      <td>1.78</td>\n",
       "      <td>30.89</td>\n",
       "      <td>neutre</td>\n",
       "    </tr>\n",
       "    <tr>\n",
       "      <th>2</th>\n",
       "      <td>other_classes</td>\n",
       "      <td>X-RAY DIFFRACTION</td>\n",
       "      <td>others_macro_mol</td>\n",
       "      <td>24</td>\n",
       "      <td>2.25</td>\n",
       "      <td>7939.35</td>\n",
       "      <td>vapor diffusion  hanging drop</td>\n",
       "      <td>293.0</td>\n",
       "      <td>2.00</td>\n",
       "      <td>38.45</td>\n",
       "      <td>neutre</td>\n",
       "    </tr>\n",
       "    <tr>\n",
       "      <th>3</th>\n",
       "      <td>other_classes</td>\n",
       "      <td>X-RAY DIFFRACTION</td>\n",
       "      <td>others_macro_mol</td>\n",
       "      <td>24</td>\n",
       "      <td>2.25</td>\n",
       "      <td>7939.35</td>\n",
       "      <td>vapor diffusion  hanging drop</td>\n",
       "      <td>293.0</td>\n",
       "      <td>2.00</td>\n",
       "      <td>38.45</td>\n",
       "      <td>neutre</td>\n",
       "    </tr>\n",
       "    <tr>\n",
       "      <th>4</th>\n",
       "      <td>other_classes</td>\n",
       "      <td>X-RAY DIFFRACTION</td>\n",
       "      <td>Protein</td>\n",
       "      <td>154</td>\n",
       "      <td>2.07</td>\n",
       "      <td>18112.80</td>\n",
       "      <td>vapor diffusion  hanging drop</td>\n",
       "      <td>293.0</td>\n",
       "      <td>3.09</td>\n",
       "      <td>60.20</td>\n",
       "      <td>basique</td>\n",
       "    </tr>\n",
       "  </tbody>\n",
       "</table>\n",
       "</div>"
      ],
      "text/plain": [
       "  classification experimentalTechnique macromoleculeType  residueCount  \\\n",
       "0  other_classes     X-RAY DIFFRACTION  others_macro_mol            20   \n",
       "1  other_classes     X-RAY DIFFRACTION  others_macro_mol            20   \n",
       "2  other_classes     X-RAY DIFFRACTION  others_macro_mol            24   \n",
       "3  other_classes     X-RAY DIFFRACTION  others_macro_mol            24   \n",
       "4  other_classes     X-RAY DIFFRACTION           Protein           154   \n",
       "\n",
       "   resolution  structureMolecularWeight          crystallizationMethod  \\\n",
       "0        1.90                   6360.30  vapor diffusion  hanging drop   \n",
       "1        1.90                   6360.30  vapor diffusion  hanging drop   \n",
       "2        2.25                   7939.35  vapor diffusion  hanging drop   \n",
       "3        2.25                   7939.35  vapor diffusion  hanging drop   \n",
       "4        2.07                  18112.80  vapor diffusion  hanging drop   \n",
       "\n",
       "   crystallizationTempK  densityMatthews  densityPercentSol  phValue  \n",
       "0                 293.0             1.78              30.89   neutre  \n",
       "1                 293.0             1.78              30.89   neutre  \n",
       "2                 293.0             2.00              38.45   neutre  \n",
       "3                 293.0             2.00              38.45   neutre  \n",
       "4                 293.0             3.09              60.20  basique  "
      ]
     },
     "execution_count": 47,
     "metadata": {},
     "output_type": "execute_result"
    }
   ],
   "source": [
    "df = dc.load_and_clean_datasets()\n",
    "#Print shape\n",
    "print(\"Le dataset contient {} lignes et {} colonnes\".format(df.shape[0], df.shape[1]))\n",
    "df.head()"
   ]
  },
  {
   "cell_type": "markdown",
   "metadata": {},
   "source": [
    "### Analyse de la distribution des variables numériques"
   ]
  },
  {
   "cell_type": "code",
   "execution_count": 32,
   "metadata": {},
   "outputs": [
    {
     "data": {
      "text/plain": [
       "6"
      ]
     },
     "execution_count": 32,
     "metadata": {},
     "output_type": "execute_result"
    }
   ],
   "source": [
    "# Ajouter diagrammes distribution pour montrer l'asymétrie de certaines variables\n",
    "len(df.columns)"
   ]
  },
  {
   "cell_type": "code",
   "execution_count": 48,
   "metadata": {},
   "outputs": [
    {
     "data": {
      "text/plain": [
       "(471149, 11)"
      ]
     },
     "execution_count": 48,
     "metadata": {},
     "output_type": "execute_result"
    }
   ],
   "source": [
    "# Correction de l'assymétrie des variables\n",
    "df = md.handle_skewness(df)\n"
   ]
  },
  {
   "cell_type": "code",
   "execution_count": 50,
   "metadata": {},
   "outputs": [
    {
     "data": {
      "text/html": [
       "<div>\n",
       "<style scoped>\n",
       "    .dataframe tbody tr th:only-of-type {\n",
       "        vertical-align: middle;\n",
       "    }\n",
       "\n",
       "    .dataframe tbody tr th {\n",
       "        vertical-align: top;\n",
       "    }\n",
       "\n",
       "    .dataframe thead th {\n",
       "        text-align: right;\n",
       "    }\n",
       "</style>\n",
       "<table border=\"1\" class=\"dataframe\">\n",
       "  <thead>\n",
       "    <tr style=\"text-align: right;\">\n",
       "      <th></th>\n",
       "      <th>residueCount</th>\n",
       "      <th>resolution</th>\n",
       "      <th>structureMolecularWeight</th>\n",
       "      <th>crystallizationTempK</th>\n",
       "      <th>densityMatthews</th>\n",
       "      <th>densityPercentSol</th>\n",
       "    </tr>\n",
       "  </thead>\n",
       "  <tbody>\n",
       "    <tr>\n",
       "      <th>count</th>\n",
       "      <td>471149.000000</td>\n",
       "      <td>471149.000000</td>\n",
       "      <td>471149.000000</td>\n",
       "      <td>471149.000000</td>\n",
       "      <td>471149.000000</td>\n",
       "      <td>471149.000000</td>\n",
       "    </tr>\n",
       "    <tr>\n",
       "      <th>mean</th>\n",
       "      <td>7.254012</td>\n",
       "      <td>0.958419</td>\n",
       "      <td>12.099898</td>\n",
       "      <td>5.674588</td>\n",
       "      <td>1.010708</td>\n",
       "      <td>54.155949</td>\n",
       "    </tr>\n",
       "    <tr>\n",
       "      <th>std</th>\n",
       "      <td>1.634903</td>\n",
       "      <td>0.432596</td>\n",
       "      <td>1.723614</td>\n",
       "      <td>0.052715</td>\n",
       "      <td>0.218151</td>\n",
       "      <td>9.341389</td>\n",
       "    </tr>\n",
       "    <tr>\n",
       "      <th>min</th>\n",
       "      <td>0.000000</td>\n",
       "      <td>-0.733969</td>\n",
       "      <td>6.117106</td>\n",
       "      <td>1.386294</td>\n",
       "      <td>-0.235722</td>\n",
       "      <td>0.000000</td>\n",
       "    </tr>\n",
       "    <tr>\n",
       "      <th>25%</th>\n",
       "      <td>6.122493</td>\n",
       "      <td>0.693147</td>\n",
       "      <td>10.873638</td>\n",
       "      <td>5.676754</td>\n",
       "      <td>0.871293</td>\n",
       "      <td>48.410000</td>\n",
       "    </tr>\n",
       "    <tr>\n",
       "      <th>50%</th>\n",
       "      <td>7.038784</td>\n",
       "      <td>0.916291</td>\n",
       "      <td>11.784010</td>\n",
       "      <td>5.680173</td>\n",
       "      <td>0.982078</td>\n",
       "      <td>53.950000</td>\n",
       "    </tr>\n",
       "    <tr>\n",
       "      <th>75%</th>\n",
       "      <td>8.418036</td>\n",
       "      <td>1.115142</td>\n",
       "      <td>13.361889</td>\n",
       "      <td>5.680173</td>\n",
       "      <td>1.118415</td>\n",
       "      <td>59.820000</td>\n",
       "    </tr>\n",
       "    <tr>\n",
       "      <th>max</th>\n",
       "      <td>12.654712</td>\n",
       "      <td>4.248495</td>\n",
       "      <td>18.397725</td>\n",
       "      <td>5.986452</td>\n",
       "      <td>4.595120</td>\n",
       "      <td>92.000000</td>\n",
       "    </tr>\n",
       "  </tbody>\n",
       "</table>\n",
       "</div>"
      ],
      "text/plain": [
       "        residueCount     resolution  structureMolecularWeight  \\\n",
       "count  471149.000000  471149.000000             471149.000000   \n",
       "mean        7.254012       0.958419                 12.099898   \n",
       "std         1.634903       0.432596                  1.723614   \n",
       "min         0.000000      -0.733969                  6.117106   \n",
       "25%         6.122493       0.693147                 10.873638   \n",
       "50%         7.038784       0.916291                 11.784010   \n",
       "75%         8.418036       1.115142                 13.361889   \n",
       "max        12.654712       4.248495                 18.397725   \n",
       "\n",
       "       crystallizationTempK  densityMatthews  densityPercentSol  \n",
       "count         471149.000000    471149.000000      471149.000000  \n",
       "mean               5.674588         1.010708          54.155949  \n",
       "std                0.052715         0.218151           9.341389  \n",
       "min                1.386294        -0.235722           0.000000  \n",
       "25%                5.676754         0.871293          48.410000  \n",
       "50%                5.680173         0.982078          53.950000  \n",
       "75%                5.680173         1.118415          59.820000  \n",
       "max                5.986452         4.595120          92.000000  "
      ]
     },
     "execution_count": 50,
     "metadata": {},
     "output_type": "execute_result"
    }
   ],
   "source": [
    "df.describe()"
   ]
  },
  {
   "cell_type": "markdown",
   "metadata": {},
   "source": [
    "### Discretisation des variables catégorielles"
   ]
  },
  {
   "cell_type": "code",
   "execution_count": 51,
   "metadata": {},
   "outputs": [
    {
     "data": {
      "text/html": [
       "<div>\n",
       "<style scoped>\n",
       "    .dataframe tbody tr th:only-of-type {\n",
       "        vertical-align: middle;\n",
       "    }\n",
       "\n",
       "    .dataframe tbody tr th {\n",
       "        vertical-align: top;\n",
       "    }\n",
       "\n",
       "    .dataframe thead th {\n",
       "        text-align: right;\n",
       "    }\n",
       "</style>\n",
       "<table border=\"1\" class=\"dataframe\">\n",
       "  <thead>\n",
       "    <tr style=\"text-align: right;\">\n",
       "      <th></th>\n",
       "      <th>residueCount</th>\n",
       "      <th>resolution</th>\n",
       "      <th>structureMolecularWeight</th>\n",
       "      <th>crystallizationTempK</th>\n",
       "      <th>densityMatthews</th>\n",
       "      <th>densityPercentSol</th>\n",
       "    </tr>\n",
       "  </thead>\n",
       "  <tbody>\n",
       "    <tr>\n",
       "      <th>0</th>\n",
       "      <td>-2.604609</td>\n",
       "      <td>-0.731780</td>\n",
       "      <td>-1.938991</td>\n",
       "      <td>0.105939</td>\n",
       "      <td>-1.989886</td>\n",
       "      <td>-2.490633</td>\n",
       "    </tr>\n",
       "    <tr>\n",
       "      <th>1</th>\n",
       "      <td>-2.604609</td>\n",
       "      <td>-0.731780</td>\n",
       "      <td>-1.938991</td>\n",
       "      <td>0.105939</td>\n",
       "      <td>-1.989886</td>\n",
       "      <td>-2.490633</td>\n",
       "    </tr>\n",
       "    <tr>\n",
       "      <th>2</th>\n",
       "      <td>-2.493091</td>\n",
       "      <td>-0.340939</td>\n",
       "      <td>-1.810333</td>\n",
       "      <td>0.105939</td>\n",
       "      <td>-1.455696</td>\n",
       "      <td>-1.681331</td>\n",
       "    </tr>\n",
       "    <tr>\n",
       "      <th>3</th>\n",
       "      <td>-2.493091</td>\n",
       "      <td>-0.340939</td>\n",
       "      <td>-1.810333</td>\n",
       "      <td>0.105939</td>\n",
       "      <td>-1.455696</td>\n",
       "      <td>-1.681331</td>\n",
       "    </tr>\n",
       "    <tr>\n",
       "      <th>4</th>\n",
       "      <td>-1.356081</td>\n",
       "      <td>-0.533686</td>\n",
       "      <td>-1.331810</td>\n",
       "      <td>0.105939</td>\n",
       "      <td>0.538450</td>\n",
       "      <td>0.647019</td>\n",
       "    </tr>\n",
       "  </tbody>\n",
       "</table>\n",
       "</div>"
      ],
      "text/plain": [
       "   residueCount  resolution  structureMolecularWeight  crystallizationTempK  \\\n",
       "0     -2.604609   -0.731780                 -1.938991              0.105939   \n",
       "1     -2.604609   -0.731780                 -1.938991              0.105939   \n",
       "2     -2.493091   -0.340939                 -1.810333              0.105939   \n",
       "3     -2.493091   -0.340939                 -1.810333              0.105939   \n",
       "4     -1.356081   -0.533686                 -1.331810              0.105939   \n",
       "\n",
       "   densityMatthews  densityPercentSol  \n",
       "0        -1.989886          -2.490633  \n",
       "1        -1.989886          -2.490633  \n",
       "2        -1.455696          -1.681331  \n",
       "3        -1.455696          -1.681331  \n",
       "4         0.538450           0.647019  "
      ]
     },
     "execution_count": 51,
     "metadata": {},
     "output_type": "execute_result"
    }
   ],
   "source": [
    "num_data = df.select_dtypes(include = \"number\")\n",
    "num_data = md.scaleData(num_data)\n",
    "num_data.head()"
   ]
  },
  {
   "cell_type": "code",
   "execution_count": 53,
   "metadata": {},
   "outputs": [
    {
     "data": {
      "text/html": [
       "<div>\n",
       "<style scoped>\n",
       "    .dataframe tbody tr th:only-of-type {\n",
       "        vertical-align: middle;\n",
       "    }\n",
       "\n",
       "    .dataframe tbody tr th {\n",
       "        vertical-align: top;\n",
       "    }\n",
       "\n",
       "    .dataframe thead th {\n",
       "        text-align: right;\n",
       "    }\n",
       "</style>\n",
       "<table border=\"1\" class=\"dataframe\">\n",
       "  <thead>\n",
       "    <tr style=\"text-align: right;\">\n",
       "      <th></th>\n",
       "      <th>classification</th>\n",
       "      <th>experimentalTechnique</th>\n",
       "      <th>macromoleculeType</th>\n",
       "      <th>residueCount</th>\n",
       "      <th>resolution</th>\n",
       "      <th>structureMolecularWeight</th>\n",
       "      <th>crystallizationMethod</th>\n",
       "      <th>crystallizationTempK</th>\n",
       "      <th>densityMatthews</th>\n",
       "      <th>densityPercentSol</th>\n",
       "      <th>phValue</th>\n",
       "    </tr>\n",
       "  </thead>\n",
       "  <tbody>\n",
       "    <tr>\n",
       "      <th>0</th>\n",
       "      <td>other_classes</td>\n",
       "      <td>X-RAY DIFFRACTION</td>\n",
       "      <td>others_macro_mol</td>\n",
       "      <td>-2.604609</td>\n",
       "      <td>-0.731780</td>\n",
       "      <td>-1.938991</td>\n",
       "      <td>vapor diffusion  hanging drop</td>\n",
       "      <td>0.105939</td>\n",
       "      <td>-1.989886</td>\n",
       "      <td>-2.490633</td>\n",
       "      <td>neutre</td>\n",
       "    </tr>\n",
       "    <tr>\n",
       "      <th>1</th>\n",
       "      <td>other_classes</td>\n",
       "      <td>X-RAY DIFFRACTION</td>\n",
       "      <td>others_macro_mol</td>\n",
       "      <td>-2.604609</td>\n",
       "      <td>-0.731780</td>\n",
       "      <td>-1.938991</td>\n",
       "      <td>vapor diffusion  hanging drop</td>\n",
       "      <td>0.105939</td>\n",
       "      <td>-1.989886</td>\n",
       "      <td>-2.490633</td>\n",
       "      <td>neutre</td>\n",
       "    </tr>\n",
       "    <tr>\n",
       "      <th>2</th>\n",
       "      <td>other_classes</td>\n",
       "      <td>X-RAY DIFFRACTION</td>\n",
       "      <td>others_macro_mol</td>\n",
       "      <td>-2.493091</td>\n",
       "      <td>-0.340939</td>\n",
       "      <td>-1.810333</td>\n",
       "      <td>vapor diffusion  hanging drop</td>\n",
       "      <td>0.105939</td>\n",
       "      <td>-1.455696</td>\n",
       "      <td>-1.681331</td>\n",
       "      <td>neutre</td>\n",
       "    </tr>\n",
       "    <tr>\n",
       "      <th>3</th>\n",
       "      <td>other_classes</td>\n",
       "      <td>X-RAY DIFFRACTION</td>\n",
       "      <td>others_macro_mol</td>\n",
       "      <td>-2.493091</td>\n",
       "      <td>-0.340939</td>\n",
       "      <td>-1.810333</td>\n",
       "      <td>vapor diffusion  hanging drop</td>\n",
       "      <td>0.105939</td>\n",
       "      <td>-1.455696</td>\n",
       "      <td>-1.681331</td>\n",
       "      <td>neutre</td>\n",
       "    </tr>\n",
       "    <tr>\n",
       "      <th>4</th>\n",
       "      <td>other_classes</td>\n",
       "      <td>X-RAY DIFFRACTION</td>\n",
       "      <td>Protein</td>\n",
       "      <td>-1.356081</td>\n",
       "      <td>-0.533686</td>\n",
       "      <td>-1.331810</td>\n",
       "      <td>vapor diffusion  hanging drop</td>\n",
       "      <td>0.105939</td>\n",
       "      <td>0.538450</td>\n",
       "      <td>0.647019</td>\n",
       "      <td>basique</td>\n",
       "    </tr>\n",
       "  </tbody>\n",
       "</table>\n",
       "</div>"
      ],
      "text/plain": [
       "  classification experimentalTechnique macromoleculeType  residueCount  \\\n",
       "0  other_classes     X-RAY DIFFRACTION  others_macro_mol     -2.604609   \n",
       "1  other_classes     X-RAY DIFFRACTION  others_macro_mol     -2.604609   \n",
       "2  other_classes     X-RAY DIFFRACTION  others_macro_mol     -2.493091   \n",
       "3  other_classes     X-RAY DIFFRACTION  others_macro_mol     -2.493091   \n",
       "4  other_classes     X-RAY DIFFRACTION           Protein     -1.356081   \n",
       "\n",
       "   resolution  structureMolecularWeight          crystallizationMethod  \\\n",
       "0   -0.731780                 -1.938991  vapor diffusion  hanging drop   \n",
       "1   -0.731780                 -1.938991  vapor diffusion  hanging drop   \n",
       "2   -0.340939                 -1.810333  vapor diffusion  hanging drop   \n",
       "3   -0.340939                 -1.810333  vapor diffusion  hanging drop   \n",
       "4   -0.533686                 -1.331810  vapor diffusion  hanging drop   \n",
       "\n",
       "   crystallizationTempK  densityMatthews  densityPercentSol  phValue  \n",
       "0              0.105939        -1.989886          -2.490633   neutre  \n",
       "1              0.105939        -1.989886          -2.490633   neutre  \n",
       "2              0.105939        -1.455696          -1.681331   neutre  \n",
       "3              0.105939        -1.455696          -1.681331   neutre  \n",
       "4              0.105939         0.538450           0.647019  basique  "
      ]
     },
     "execution_count": 53,
     "metadata": {},
     "output_type": "execute_result"
    }
   ],
   "source": [
    "for col in num_data:\n",
    "    df[col] = num_data[col]\n",
    "df.head()"
   ]
  },
  {
   "cell_type": "code",
   "execution_count": 54,
   "metadata": {},
   "outputs": [
    {
     "data": {
      "text/html": [
       "<div>\n",
       "<style scoped>\n",
       "    .dataframe tbody tr th:only-of-type {\n",
       "        vertical-align: middle;\n",
       "    }\n",
       "\n",
       "    .dataframe tbody tr th {\n",
       "        vertical-align: top;\n",
       "    }\n",
       "\n",
       "    .dataframe thead th {\n",
       "        text-align: right;\n",
       "    }\n",
       "</style>\n",
       "<table border=\"1\" class=\"dataframe\">\n",
       "  <thead>\n",
       "    <tr style=\"text-align: right;\">\n",
       "      <th></th>\n",
       "      <th>classification</th>\n",
       "      <th>residueCount</th>\n",
       "      <th>resolution</th>\n",
       "      <th>structureMolecularWeight</th>\n",
       "      <th>crystallizationTempK</th>\n",
       "      <th>densityMatthews</th>\n",
       "      <th>densityPercentSol</th>\n",
       "      <th>experimentalTechnique_X-RAY DIFFRACTION</th>\n",
       "      <th>experimentalTechnique_others_tech_exp</th>\n",
       "      <th>macromoleculeType_Protein</th>\n",
       "      <th>...</th>\n",
       "      <th>macromoleculeType_Protein#RNA</th>\n",
       "      <th>macromoleculeType_others_macro_mol</th>\n",
       "      <th>crystallizationMethod_microbatch</th>\n",
       "      <th>crystallizationMethod_others_cryst_method</th>\n",
       "      <th>crystallizationMethod_vapor diffusion</th>\n",
       "      <th>crystallizationMethod_vapor diffusion  hanging drop</th>\n",
       "      <th>crystallizationMethod_vapor diffusion  sitting drop</th>\n",
       "      <th>phValue_acide</th>\n",
       "      <th>phValue_basique</th>\n",
       "      <th>phValue_neutre</th>\n",
       "    </tr>\n",
       "  </thead>\n",
       "  <tbody>\n",
       "    <tr>\n",
       "      <th>0</th>\n",
       "      <td>other_classes</td>\n",
       "      <td>-2.604609</td>\n",
       "      <td>-0.731780</td>\n",
       "      <td>-1.938991</td>\n",
       "      <td>0.105939</td>\n",
       "      <td>-1.989886</td>\n",
       "      <td>-2.490633</td>\n",
       "      <td>1</td>\n",
       "      <td>0</td>\n",
       "      <td>0</td>\n",
       "      <td>...</td>\n",
       "      <td>0</td>\n",
       "      <td>1</td>\n",
       "      <td>0</td>\n",
       "      <td>0</td>\n",
       "      <td>0</td>\n",
       "      <td>1</td>\n",
       "      <td>0</td>\n",
       "      <td>0</td>\n",
       "      <td>0</td>\n",
       "      <td>1</td>\n",
       "    </tr>\n",
       "    <tr>\n",
       "      <th>1</th>\n",
       "      <td>other_classes</td>\n",
       "      <td>-2.604609</td>\n",
       "      <td>-0.731780</td>\n",
       "      <td>-1.938991</td>\n",
       "      <td>0.105939</td>\n",
       "      <td>-1.989886</td>\n",
       "      <td>-2.490633</td>\n",
       "      <td>1</td>\n",
       "      <td>0</td>\n",
       "      <td>0</td>\n",
       "      <td>...</td>\n",
       "      <td>0</td>\n",
       "      <td>1</td>\n",
       "      <td>0</td>\n",
       "      <td>0</td>\n",
       "      <td>0</td>\n",
       "      <td>1</td>\n",
       "      <td>0</td>\n",
       "      <td>0</td>\n",
       "      <td>0</td>\n",
       "      <td>1</td>\n",
       "    </tr>\n",
       "    <tr>\n",
       "      <th>2</th>\n",
       "      <td>other_classes</td>\n",
       "      <td>-2.493091</td>\n",
       "      <td>-0.340939</td>\n",
       "      <td>-1.810333</td>\n",
       "      <td>0.105939</td>\n",
       "      <td>-1.455696</td>\n",
       "      <td>-1.681331</td>\n",
       "      <td>1</td>\n",
       "      <td>0</td>\n",
       "      <td>0</td>\n",
       "      <td>...</td>\n",
       "      <td>0</td>\n",
       "      <td>1</td>\n",
       "      <td>0</td>\n",
       "      <td>0</td>\n",
       "      <td>0</td>\n",
       "      <td>1</td>\n",
       "      <td>0</td>\n",
       "      <td>0</td>\n",
       "      <td>0</td>\n",
       "      <td>1</td>\n",
       "    </tr>\n",
       "    <tr>\n",
       "      <th>3</th>\n",
       "      <td>other_classes</td>\n",
       "      <td>-2.493091</td>\n",
       "      <td>-0.340939</td>\n",
       "      <td>-1.810333</td>\n",
       "      <td>0.105939</td>\n",
       "      <td>-1.455696</td>\n",
       "      <td>-1.681331</td>\n",
       "      <td>1</td>\n",
       "      <td>0</td>\n",
       "      <td>0</td>\n",
       "      <td>...</td>\n",
       "      <td>0</td>\n",
       "      <td>1</td>\n",
       "      <td>0</td>\n",
       "      <td>0</td>\n",
       "      <td>0</td>\n",
       "      <td>1</td>\n",
       "      <td>0</td>\n",
       "      <td>0</td>\n",
       "      <td>0</td>\n",
       "      <td>1</td>\n",
       "    </tr>\n",
       "    <tr>\n",
       "      <th>4</th>\n",
       "      <td>other_classes</td>\n",
       "      <td>-1.356081</td>\n",
       "      <td>-0.533686</td>\n",
       "      <td>-1.331810</td>\n",
       "      <td>0.105939</td>\n",
       "      <td>0.538450</td>\n",
       "      <td>0.647019</td>\n",
       "      <td>1</td>\n",
       "      <td>0</td>\n",
       "      <td>1</td>\n",
       "      <td>...</td>\n",
       "      <td>0</td>\n",
       "      <td>0</td>\n",
       "      <td>0</td>\n",
       "      <td>0</td>\n",
       "      <td>0</td>\n",
       "      <td>1</td>\n",
       "      <td>0</td>\n",
       "      <td>0</td>\n",
       "      <td>1</td>\n",
       "      <td>0</td>\n",
       "    </tr>\n",
       "  </tbody>\n",
       "</table>\n",
       "<p>5 rows × 21 columns</p>\n",
       "</div>"
      ],
      "text/plain": [
       "  classification  residueCount  resolution  structureMolecularWeight  \\\n",
       "0  other_classes     -2.604609   -0.731780                 -1.938991   \n",
       "1  other_classes     -2.604609   -0.731780                 -1.938991   \n",
       "2  other_classes     -2.493091   -0.340939                 -1.810333   \n",
       "3  other_classes     -2.493091   -0.340939                 -1.810333   \n",
       "4  other_classes     -1.356081   -0.533686                 -1.331810   \n",
       "\n",
       "   crystallizationTempK  densityMatthews  densityPercentSol  \\\n",
       "0              0.105939        -1.989886          -2.490633   \n",
       "1              0.105939        -1.989886          -2.490633   \n",
       "2              0.105939        -1.455696          -1.681331   \n",
       "3              0.105939        -1.455696          -1.681331   \n",
       "4              0.105939         0.538450           0.647019   \n",
       "\n",
       "   experimentalTechnique_X-RAY DIFFRACTION  \\\n",
       "0                                        1   \n",
       "1                                        1   \n",
       "2                                        1   \n",
       "3                                        1   \n",
       "4                                        1   \n",
       "\n",
       "   experimentalTechnique_others_tech_exp  macromoleculeType_Protein  ...  \\\n",
       "0                                      0                          0  ...   \n",
       "1                                      0                          0  ...   \n",
       "2                                      0                          0  ...   \n",
       "3                                      0                          0  ...   \n",
       "4                                      0                          1  ...   \n",
       "\n",
       "   macromoleculeType_Protein#RNA  macromoleculeType_others_macro_mol  \\\n",
       "0                              0                                   1   \n",
       "1                              0                                   1   \n",
       "2                              0                                   1   \n",
       "3                              0                                   1   \n",
       "4                              0                                   0   \n",
       "\n",
       "   crystallizationMethod_microbatch  \\\n",
       "0                                 0   \n",
       "1                                 0   \n",
       "2                                 0   \n",
       "3                                 0   \n",
       "4                                 0   \n",
       "\n",
       "   crystallizationMethod_others_cryst_method  \\\n",
       "0                                          0   \n",
       "1                                          0   \n",
       "2                                          0   \n",
       "3                                          0   \n",
       "4                                          0   \n",
       "\n",
       "   crystallizationMethod_vapor diffusion  \\\n",
       "0                                      0   \n",
       "1                                      0   \n",
       "2                                      0   \n",
       "3                                      0   \n",
       "4                                      0   \n",
       "\n",
       "   crystallizationMethod_vapor diffusion  hanging drop  \\\n",
       "0                                                  1     \n",
       "1                                                  1     \n",
       "2                                                  1     \n",
       "3                                                  1     \n",
       "4                                                  1     \n",
       "\n",
       "   crystallizationMethod_vapor diffusion  sitting drop  phValue_acide  \\\n",
       "0                                                  0                0   \n",
       "1                                                  0                0   \n",
       "2                                                  0                0   \n",
       "3                                                  0                0   \n",
       "4                                                  0                0   \n",
       "\n",
       "   phValue_basique  phValue_neutre  \n",
       "0                0               1  \n",
       "1                0               1  \n",
       "2                0               1  \n",
       "3                0               1  \n",
       "4                1               0  \n",
       "\n",
       "[5 rows x 21 columns]"
      ]
     },
     "execution_count": 54,
     "metadata": {},
     "output_type": "execute_result"
    }
   ],
   "source": [
    "cat_data = df.select_dtypes(include = object).drop('classification', axis=1)\n",
    "df = pd.get_dummies(df, prefix_sep= '_', drop_first=False, columns=cat_data.columns)\n",
    "df.head()"
   ]
  },
  {
   "cell_type": "code",
   "execution_count": 55,
   "metadata": {},
   "outputs": [
    {
     "data": {
      "text/plain": [
       "(471149, 21)"
      ]
     },
     "execution_count": 55,
     "metadata": {},
     "output_type": "execute_result"
    }
   ],
   "source": [
    "df.shape"
   ]
  },
  {
   "cell_type": "markdown",
   "metadata": {
    "pycharm": {
     "name": "#%% md\n"
    }
   },
   "source": [
    "### Preprocessing"
   ]
  },
  {
   "cell_type": "code",
   "execution_count": 57,
   "metadata": {},
   "outputs": [],
   "source": [
    "#Selection données et cible\n",
    "data = df.drop('classification', axis=1)\n",
    "target = df.classification"
   ]
  },
  {
   "cell_type": "code",
   "execution_count": 59,
   "metadata": {},
   "outputs": [
    {
     "data": {
      "text/plain": [
       "((329804, 20), (141345, 20), (329804,), (141345,))"
      ]
     },
     "execution_count": 59,
     "metadata": {},
     "output_type": "execute_result"
    }
   ],
   "source": [
    "#Split into train/test arrays\n",
    "X_train, X_test, y_train,  y_test = train_test_split(data, target, test_size=0.3, random_state=123)\n",
    "\n",
    "X_train.shape, X_test.shape, y_train.shape, y_test.shape"
   ]
  },
  {
   "cell_type": "markdown",
   "metadata": {},
   "source": [
    "### Models training"
   ]
  },
  {
   "cell_type": "code",
   "execution_count": 75,
   "metadata": {},
   "outputs": [],
   "source": [
    "models = [ExtraTreesClassifier(),BaggingClassifier(),\n",
    "            RandomForestClassifier(),DecisionTreeClassifier()]\n",
    "             #KNeighborsClassifier(),XGBClassifier(),\n",
    "              #GradientBoostingClassifier(),SVC(), LinearDiscriminantAnalysis(), \n",
    "              #MLPClassifier(),LogisticRegression(), AdaBoostClassifier()]\n"
   ]
  },
  {
   "cell_type": "code",
   "execution_count": 76,
   "metadata": {},
   "outputs": [
    {
     "data": {
      "application/vnd.jupyter.widget-view+json": {
       "model_id": "895c47d618b14d8aaa990233c8899acf",
       "version_major": 2,
       "version_minor": 0
      },
      "text/plain": [
       "  0%|          | 0/4 [00:00<?, ?it/s]"
      ]
     },
     "metadata": {},
     "output_type": "display_data"
    }
   ],
   "source": [
    "scores = md.train_models(models, X_train, y_train)"
   ]
  },
  {
   "cell_type": "code",
   "execution_count": 77,
   "metadata": {},
   "outputs": [
    {
     "data": {
      "text/plain": [
       "{'ExtraTreesClassifier': [0.9003953939778204],\n",
       " 'BaggingClassifier': [0.8934427761395917],\n",
       " 'RandomForestClassifier': [0.8985306459780353],\n",
       " 'DecisionTreeClassifier': [0.8772968232905403]}"
      ]
     },
     "execution_count": 77,
     "metadata": {},
     "output_type": "execute_result"
    }
   ],
   "source": [
    "# Display training scores\n",
    "scores\n"
   ]
  },
  {
   "cell_type": "code",
   "execution_count": 114,
   "metadata": {},
   "outputs": [
    {
     "data": {
      "text/plain": [
       "RangeIndex(start=0, stop=1, step=1)"
      ]
     },
     "execution_count": 114,
     "metadata": {},
     "output_type": "execute_result"
    }
   ],
   "source": [
    "m_df = pd.DataFrame.from_dict(scores)\n",
    "m_df.index"
   ]
  },
  {
   "cell_type": "code",
   "execution_count": 117,
   "metadata": {
    "scrolled": true
   },
   "outputs": [
    {
     "data": {
      "image/png": "[encoded data removed]",
      "text/plain": [
       "<Figure size 720x576 with 1 Axes>"
      ]
     },
     "metadata": {
      "needs_background": "light"
     },
     "output_type": "display_data"
    }
   ],
   "source": [
    "f, ax = plt.subplots(figsize=(10,8))\n",
    "sns.barplot(data=m_df, ax=ax,palette='RdBu_r',edgecolor=\".2\", orient=\"h\")\n",
    "for i in ax.patches:\n",
    "    # get_width pulls left or right; get_y pushes up or down\n",
    "    ax.text(i.get_width()+.01, i.get_y()+.55, \\\n",
    "        str(\"{:.4f}\").format(round((i.get_width()), 4)), fontsize=12, color='black') \n",
    "kwargs= {'length':3, 'width':1, 'colors':'black','labelsize':'large'}\n",
    "ax.tick_params(**kwargs)\n",
    "x_axis = ax.axes.get_xaxis().set_visible(False)\n",
    "ax.set_title('Model & Accuracy Score',fontsize=16)\n",
    "sns.despine(bottom=True)\n",
    "plt.show()"
   ]
  },
  {
   "cell_type": "markdown",
   "metadata": {},
   "source": [
    "Sur les 11 modèles testés, 4 se dégagent nettement avec des accuracy intéressants, ces modèles sont essentiellement des algorithmes de classification d'ensemble: \n",
    "\n",
    "<li> ExtraTreesClassifier, \n",
    "<li> RandomForest, \n",
    "<li> Le Bagging Classifier,\n",
    "<li> DecisionTreeClassifier"
   ]
  },
  {
   "cell_type": "markdown",
   "metadata": {},
   "source": [
    "Les performances élèvées de nos 4 modèles retenus en terme d'accuracy suscitent de la prudence dans l'interprétation des résultats. En effet, un surapprentissage de nos modèles pourrait avoir pour effet une difficulté de généralisation de ceux-ci sur de nouveaux jeux de données en terme prédictif. \n",
    "\n",
    "Un des meilleurs moyens de voir un effet de surapprentissage sur l'echantillon d'apprentissage et plus globalement sur la taille du jeu de données des modèles est la répresentation de ceux-ci en courbe d'apprentissage"
   ]
  },
  {
   "cell_type": "code",
   "execution_count": 124,
   "metadata": {},
   "outputs": [
    {
     "data": {
      "image/png": "[encoded data removed]",
      "text/plain": [
       "<Figure size 720x360 with 1 Axes>"
      ]
     },
     "metadata": {
      "needs_background": "light"
     },
     "output_type": "display_data"
    },
    {
     "data": {
      "image/png": "[encoded data removed]",
      "text/plain": [
       "<Figure size 720x360 with 1 Axes>"
      ]
     },
     "metadata": {
      "needs_background": "light"
     },
     "output_type": "display_data"
    },
    {
     "data": {
      "image/png": "[encoded data removed]",
      "text/plain": [
       "<Figure size 720x360 with 1 Axes>"
      ]
     },
     "metadata": {
      "needs_background": "light"
     },
     "output_type": "display_data"
    },
    {
     "data": {
      "image/png": "[encoded data removed]",
      "text/plain": [
       "<Figure size 720x360 with 1 Axes>"
      ]
     },
     "metadata": {
      "needs_background": "light"
     },
     "output_type": "display_data"
    }
   ],
   "source": [
    "kfold = StratifiedKFold(n_splits=5)\n",
    "for model in models:\n",
    "    md.plot_learning_curve(model, X_train, y_train, cv=kfold)"
   ]
  },
  {
   "cell_type": "markdown",
   "metadata": {},
   "source": [
    "### Evaluation des algorithmes retenus "
   ]
  },
  {
   "cell_type": "code",
   "execution_count": null,
   "metadata": {},
   "outputs": [],
   "source": [
    "ret_dicts = {}\n",
    "for model in models :\n",
    "    ret_dict = md.build_models(model, X_train, X_test, y_train, y_test)\n",
    "    ret_dicts[model.__class__.__name__] = ret_dict\n",
    "    print(classification_report(y_test, red_dict['test_pred']))\n",
    "    #display confusion matrix\n",
    "    md.plot_confusion_matrix(confusion_matrix(y_test, red_dict['test_pred']), model.__class__.__name__)\n",
    "    "
   ]
  },
  {
   "cell_type": "code",
   "execution_count": null,
   "metadata": {},
   "outputs": [],
   "source": [
    "#Resultats\n",
    "for res in ret_dicts:\n",
    "    \n"
   ]
  }
 ],
 "metadata": {
  "kernelspec": {
   "display_name": "Python 3 (ipykernel)",
   "language": "python",
   "name": "python3"
  },
  "language_info": {
   "codemirror_mode": {
    "name": "ipython",
    "version": 3
   },
   "file_extension": ".py",
   "mimetype": "text/x-python",
   "name": "python",
   "nbconvert_exporter": "python",
   "pygments_lexer": "ipython3",
   "version": "3.9.9"
  }
 },
 "nbformat": 4,
 "nbformat_minor": 1
}
